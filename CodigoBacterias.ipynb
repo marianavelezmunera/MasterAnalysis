{
 "cells": [
  {
   "cell_type": "code",
   "execution_count": null,
   "metadata": {},
   "outputs": [],
   "source": [
    "# Importar las secuencias a QIIME2 demultiplexadas\n",
    "\n",
    "qiime tools import \\\n",
    "  --type 'SampleData[SequencesWithQuality]' \\\n",
    "  --input-path manifest_bacterias.txt \\\n",
    "  --output-path demux_bacterias.qza \\\n",
    "  --input-format SingleEndFastqManifestPhred33V2\n"
   ]
  },
  {
   "cell_type": "code",
   "execution_count": null,
   "metadata": {},
   "outputs": [],
   "source": [
    "# Hacer un resumen de lo que encontró de las secuencias\n",
    "qiime demux summarize \\\n",
    "--i-data demux_bacterias.qza \\\n",
    "--o-visualization SecuenciasBacterias # Acá está toda la info"
   ]
  },
  {
   "cell_type": "code",
   "execution_count": null,
   "metadata": {},
   "outputs": [],
   "source": [
    "# DADA2 \n",
    "qiime dada2 denoise-single \\\n",
    "--i-demultiplexed-seqs demux_bacterias.qza \\\n",
    "--p-trim-left 17 \\\n",
    "--p-trunc-len 270 \\\n",
    "--o-table TablaDADA2Bacterias \\\n",
    "--o-representative-sequences SeqRepresentativasBacterias \\\n",
    "--o-denoising-stats StatsDenoisingBacterias \\\n",
    "--verbose"
   ]
  },
  {
   "cell_type": "code",
   "execution_count": null,
   "metadata": {},
   "outputs": [],
   "source": [
    "# Tabla de features \n",
    "qiime feature-table summarize \\\n",
    "--i-table TablaDADA2Bacterias.qza\n",
    "--o-visualization TablaDADA2Bacterias \\\n",
    "--m-sample-metadata-file metadatos_bacterias_qiime.txt #Estos son los metadatos"
   ]
  },
  {
   "cell_type": "code",
   "execution_count": null,
   "metadata": {},
   "outputs": [],
   "source": [
    "qiime metadata tabulate \\\n",
    "--m-input-file StatsDenoisingBacterias.qza \\\n",
    "--o-visualization StatsDenoisingBacterias"
   ]
  },
  {
   "cell_type": "code",
   "execution_count": null,
   "metadata": {},
   "outputs": [],
   "source": [
    "#Arboles\n",
    "qiime phylogeny align-to-tree-mafft-fasttree \\\n",
    "--i-sequences rep-seqs.qza \\\n",
    "--o-alignment SeqRepAlineadasBacterias \\\n",
    "--o-masked-alignment SeqRepMaskedBacterias \\\n",
    "--o-tree ArbolUnrootedBacterias \\\n",
    "--o-rooted-tree ArbolRootedBacterias"
   ]
  },
  {
   "cell_type": "code",
   "execution_count": null,
   "metadata": {},
   "outputs": [],
   "source": [
    "#Rarefaccion bacterias\n",
    "qiime diversity alpha-rarefaction \\\n",
    "  --i-table TablaDADA2Bacterias.qza \\\n",
    "  --i-phylogeny ArbolRootedBacterias.qza \\\n",
    "  --p-max-depth 86845 \\\n",
    "  --m-metadata-file metadatos_bacterias.txt \\\n",
    "  --o-visualization RarefactionBacterias.qzv "
   ]
  },
  {
   "cell_type": "code",
   "execution_count": null,
   "metadata": {},
   "outputs": [],
   "source": [
    "#Tabla DADA filtrada para filósfera\n",
    "qiime feature-table filter-samples \\\n",
    "  --i-table TablaDADA2Bacterias.qza \\\n",
    "  --m-metadata-file metadatos_bacterias_qiime.txt \\\n",
    "  --p-where \"Tipo_muestra='Filosfera'\" \\\n",
    "  --o-filtered-table TablaFilosfera.qza\n"
   ]
  },
  {
   "cell_type": "code",
   "execution_count": null,
   "metadata": {},
   "outputs": [],
   "source": [
    "# Tabla DADA filtrada para rizosfera\n",
    "qiime feature-table filter-samples \\\n",
    "  --i-table TablaDADA2Bacterias.qza \\\n",
    "  --m-metadata-file metadatos_bacterias_qiime.txt \\\n",
    "  --p-where \"Tipo_muestra='Rizosfera'\" \\\n",
    "  --o-filtered-table TablaRizosfera.qza"
   ]
  },
  {
   "cell_type": "code",
   "execution_count": null,
   "metadata": {},
   "outputs": [],
   "source": [
    "# Rarefacción solo filósfera\n",
    "nohup qiime diversity alpha-rarefaction   \n",
    "--i-table TablaFilosfera.qza   \n",
    "--i-phylogeny ArbolRootedBacterias.qza   \n",
    "--p-max-depth 14000   \n",
    "--m-metadata-file metadatos_bacterias_qiime.txt   \n",
    "--o-visualization RarefactionFilosfera.qzv &"
   ]
  },
  {
   "cell_type": "code",
   "execution_count": null,
   "metadata": {},
   "outputs": [],
   "source": [
    "# Rarefacción solo rizósfera\n",
    "nohup qiime diversity alpha-rarefaction   \n",
    "--i-table TablaRizosfera.qza   \n",
    "--i-phylogeny ArbolRootedBacterias.qza   \n",
    "--p-max-depth 100000   \n",
    "--m-metadata-file metadatos_bacterias_qiime.txt   \n",
    "--o-visualization RarefactionRizosfera.qzv &"
   ]
  },
  {
   "cell_type": "code",
   "execution_count": null,
   "metadata": {},
   "outputs": [],
   "source": [
    "# Diversidad bacterias\n",
    "qiime diversity core-metrics-phylogenetic \\\n",
    "--i-phylogeny ArbolRootedBacterias.qza \\\n",
    "--i-table TablaDADA2Bacterias.qza \\\n",
    "--p-sampling-depth 4000 \\ \n",
    "--m-metadata-file metadatos_bacterias_qiime.txt \\ \n",
    "--output-dir ResultadosDiversidadBacterias"
   ]
  },
  {
   "cell_type": "code",
   "execution_count": null,
   "metadata": {},
   "outputs": [],
   "source": [
    "# Diversidad filosfera\n",
    "qiime diversity core-metrics-phylogenetic \n",
    "--i-phylogeny ArbolRootedBacterias.qza \n",
    "--i-table TablaFilosfera.qza \n",
    "--p-sampling-depth 4000 \n",
    "--m-metadata-file metadatos_bacterias_qiime.txt \n",
    "--output-dir ResultadosDiversidadFilosfera"
   ]
  },
  {
   "cell_type": "code",
   "execution_count": null,
   "metadata": {},
   "outputs": [],
   "source": [
    "# Entrenar clasificador\n",
    "\n",
    "qiime feature-classifier fit-classifier-naive-bayes \n",
    "--i-reference-reads 2022.10.seqs.fna.qza \n",
    "--i-reference-taxonomy 2022.10.taxonomy.asv.tsv.qza \n",
    "--o-classifier ClasificadorGG \n",
    "--verbose"
   ]
  },
  {
   "cell_type": "code",
   "execution_count": null,
   "metadata": {},
   "outputs": [],
   "source": [
    "# Asignación taxonomica bacterias\n",
    "qiime feature-classifier classify-sklearn \\\n",
    "--i-classifier Greengenes2-2022/ClasificadorGG.qza \\\n",
    "--i-reads SeqRepresentativasBacteri.qza \\\n",
    "--o-classification TaxonomiaBacterias.qza \\\n",
    "--verbose"
   ]
  },
  {
   "cell_type": "code",
   "execution_count": null,
   "metadata": {},
   "outputs": [],
   "source": [
    "#Taxonomia\n",
    "qiime metadata tabulate \\\n",
    "--m-input-file TaxonomiaBacterias.qza \\\n",
    "--o-visualization TaxonomiaBacterias.qzv\n",
    "\n",
    "# Barplots\n",
    "qiime taxa barplot \\\n",
    "--i-table table.qza \\\n",
    "--i-taxonomy TaxonomiaBacterias.qza \\\n",
    "--m-metadata-file metadatos_bacterias_qiime.txt \\\n",
    "--o-visualization BarplotBacterias.qzv"
   ]
  },
  {
   "cell_type": "code",
   "execution_count": null,
   "metadata": {},
   "outputs": [],
   "source": [
    "# Diferencias en las diversidades alfa (Solo como por mirar, yo las repito en R)\n",
    "qiime diversity alpha-group-significance \\\n",
    "--i-alpha-diversity ResultadosDiversidadBacterias/shannon_vector.qza \\\n",
    "--m-metadata-file metadatos_bacterias_qiime.txt \\\n",
    "--o-visualization ResultadosDiversidadBacterias/shannon-ANOVA"
   ]
  }
 ],
 "metadata": {
  "kernelspec": {
   "display_name": "base",
   "language": "python",
   "name": "python3"
  },
  "language_info": {
   "name": "python",
   "version": "3.9.12"
  },
  "orig_nbformat": 4
 },
 "nbformat": 4,
 "nbformat_minor": 2
}
