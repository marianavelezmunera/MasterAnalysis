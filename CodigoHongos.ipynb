{
 "cells": [
  {
   "cell_type": "code",
   "execution_count": null,
   "metadata": {},
   "outputs": [],
   "source": [
    "#Importar secuencias\n",
    "qiime tools import \n",
    "--type 'SampleData[SequencesWithQuality]' \n",
    "--input-path Forward \n",
    "--input-format CasavaOneEightLanelessPerSampleDirFmt \n",
    "--output-path SecuenciasHongosForward"
   ]
  },
  {
   "cell_type": "code",
   "execution_count": null,
   "metadata": {},
   "outputs": [],
   "source": [
    "# Hacer un resumen de lo que encontró de las secuencias\n",
    "qiime demux summarize \\\n",
    "--i-data SecuenciasHongosCompletas.qza \\\n",
    "--o-visualization SecuenciasHongosCompletas.qvz"
   ]
  },
  {
   "cell_type": "code",
   "execution_count": null,
   "metadata": {},
   "outputs": [],
   "source": [
    "qiime demux summarize \\\n",
    "--i-data SecuenciasHongosForward.qza \\\n",
    "--o-visualization SecuenciasHongosForward"
   ]
  },
  {
   "cell_type": "code",
   "execution_count": null,
   "metadata": {},
   "outputs": [],
   "source": [
    "# DADA2\n",
    "qiime dada2 denoise-single \\\n",
    "--i-demultiplexed-seqs SecuenciasHongosForward.qza \\\n",
    "--p-trim-left 6 \\\n",
    "--p-trunc-len 270 \\\n",
    "--o-table TablaDADA2HongosForward \\\n",
    "--o-representative-sequences SeqRepresentativasHongosForward \\\n",
    "--o-denoising-stats StatsDenoisingHongosForward \\\n",
    "--verbose"
   ]
  },
  {
   "cell_type": "code",
   "execution_count": null,
   "metadata": {},
   "outputs": [],
   "source": [
    "qiime feature-table summarize \\\n",
    "--i-table TablaDADA2HongosForward.qza \\\n",
    "--o-visualization TablaDADA2HongosForward \\\n",
    "--m-sample-metadata-file metadatos_hongos_qiime_int2.txt"
   ]
  },
  {
   "cell_type": "code",
   "execution_count": null,
   "metadata": {},
   "outputs": [],
   "source": [
    "qiime metadata tabulate \\\n",
    "--m-input-file StatsDenoisingHongosForward.qza \\\n",
    "--o-visualization StatsDenoisingHongosForward "
   ]
  },
  {
   "cell_type": "code",
   "execution_count": null,
   "metadata": {},
   "outputs": [],
   "source": [
    "qiime feature-table tabulate-seqs \\\n",
    "--i-data SeqRepresentativasHongosForward.qza \\\n",
    "--o-visualization SeqRepresentativasHongosForward.qzv"
   ]
  },
  {
   "cell_type": "code",
   "execution_count": null,
   "metadata": {},
   "outputs": [],
   "source": [
    "#Arbol\n",
    "qiime phylogeny align-to-tree-mafft-fasttree \\\n",
    "  --i-sequences DADA2/SeqRepresentativasHongosForward.qza \\\n",
    "  --o-alignment Alineadas.qza \\\n",
    "  --o-masked-alignment AlineadasMasked.qza \\\n",
    "  --o-tree ArbolUnrooted.qza \\\n",
    "  --o-rooted-tree ArbolRooted.qza --verbose"
   ]
  },
  {
   "cell_type": "code",
   "execution_count": null,
   "metadata": {},
   "outputs": [],
   "source": [
    "# Diversidad \n",
    "qiime diversity core-metrics-phylogenetic \\\n",
    "--i-phylogeny ArbolRootedHongos.qza \\\n",
    "--i-table DADA2/TablaDADA2HongosForward.qza \\\n",
    "--p-sampling-depth 26919 \\\n",
    "    --m-metadata-file metadatos_hongos_qiime_int2.txt \\\n",
    "        --output-dir ResultadosDiversidadHongos"
   ]
  },
  {
   "cell_type": "code",
   "execution_count": null,
   "metadata": {},
   "outputs": [],
   "source": [
    "# Clasificador UNITE \n",
    "cd Clasificador \n",
    "\n",
    "qiime tools import \\\n",
    "--type 'FeatureData[Sequence]' \\\n",
    "--input-path UNITE-ver9-2023/sh_refs_qiime_ver9_dynamic_25.07.2023.fasta \\\n",
    "--output-path SeqUNITE\n",
    "\n",
    "qiime tools import \\\n",
    "--type 'FeatureData[Taxonomy]' \\\n",
    "--input-path  UNITE-ver9-2023/sh_taxonomy_qiime_ver9_dynamic_25.07.2023.txt \\\n",
    "--output-path TaxUNITE \\\n",
    "--input-format HeaderlessTSVTaxonomyFormat \n",
    "\n",
    "qiime feature-classifier fit-classifier-naive-bayes \n",
    "--i-reference-reads SeqUNITE.qza \n",
    "--i-reference-taxonomy TaxUNITE.qza \n",
    "--o-classifier ClasificadorUNITE \n",
    "--verbose"
   ]
  },
  {
   "cell_type": "code",
   "execution_count": null,
   "metadata": {},
   "outputs": [],
   "source": [
    "# Clasificacion taxonómica\n",
    "qiime feature-classifier classify-sklearn \n",
    "--i-classifier Clasificador/ClasViejo/unite_classifier.qza \n",
    "--i-reads DADA2/RepSeqHongos.qza \n",
    "--o-classification TaxonomiaHongos.qza"
   ]
  },
  {
   "cell_type": "code",
   "execution_count": null,
   "metadata": {},
   "outputs": [],
   "source": [
    "#Taxonomia\n",
    "qiime metadata tabulate \\\n",
    "--m-input-file TaxonomiaHongos.qza \\\n",
    "--o-visualization TaxonomiaHongos.qzv\n",
    "\n",
    "# Barplots\n",
    "qiime taxa barplot \\\n",
    "--i-table DADA2/TablaDADA2HongosForward.qza \\\n",
    "--i-taxonomy TaxonomiaHongos.qza \\\n",
    "--m-metadata-file metadatos_hongos_qiime_int2.txt \\\n",
    "--o-visualization BarplotHongos.qzv"
   ]
  }
 ],
 "metadata": {
  "kernelspec": {
   "display_name": "base",
   "language": "python",
   "name": "python3"
  },
  "language_info": {
   "name": "python",
   "version": "3.9.12"
  },
  "orig_nbformat": 4
 },
 "nbformat": 4,
 "nbformat_minor": 2
}
